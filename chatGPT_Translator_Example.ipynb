! git clone https://github.com/hwdong-net/chatGPT.git
%cd /content/chatGPT
! pip install -r requirements.txt --quiet


# Create form widgets
input_file_path = '/content/chatGPT/data/input.md' #@param {type:"string"}
openai_key = 'sk-' #@param {type:"string"}
target_language = 'English' #@param {type:"string"}

#run
! python chatGPT_translator.py  input_file_path output_file_path --openai_key={openai_key} 

# Translated file content
with open(output_file_path, "r") as f:
    contents = f.read()
    print(contents)

