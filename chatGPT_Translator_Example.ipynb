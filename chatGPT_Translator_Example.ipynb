{
  "nbformat": 4,
  "nbformat_minor": 0,
  "metadata": {
    "colab": {
      "provenance": []
    },
    "kernelspec": {
      "name": "python3",
      "display_name": "Python 3"
    },
    "language_info": {
      "name": "python"
    }
  },
  "cells": [
    {
      "cell_type": "code",
      "source": [
        "! git clone https://github.com/hwdong-net/chatGPT.git\n",
        "%cd /content/chatGPT\n",
        "! pip install -r requirements.txt --quiet"
      ],
      "metadata": {
        "id": "GKr3GdELaqJc"
      },
      "execution_count": null,
      "outputs": []
    },
    {
      "cell_type": "code",
      "source": [
        "! git pull"
      ],
      "metadata": {
        "id": "CKPg5a_YuuXs"
      },
      "execution_count": null,
      "outputs": []
    },
    {
      "cell_type": "code",
      "source": [
        "# Create form widgets\n",
        "input_file_path = '/content/chatGPT/data/input.md' #@param {type:\"string\"}\n",
        "openai_key = 'sk-' #@param {type:\"string\"}\n",
        "target_language = 'English' #@param {type:\"string\"}\n",
        "output_file_path = '/content/chatGPT/data/output.md' #@param {type:\"string\"}"
      ],
      "metadata": {
        "id": "ONaWSqGeibNI"
      },
      "execution_count": 14,
      "outputs": []
    },
    {
      "cell_type": "code",
      "source": [
        "#run\n",
        "! python chatGPT_translator.py  {input_file_path} {output_file_path} --openai_key={openai_key} "
      ],
      "metadata": {
        "id": "RuFIy3znifGM",
        "colab": {
          "base_uri": "https://localhost:8080/"
        },
        "outputId": "841a9816-bff2-490f-8151-8852c39dd1b0"
      },
      "execution_count": 15,
      "outputs": [
        {
          "output_type": "stream",
          "name": "stdout",
          "text": [
            "input_path: /content/chatGPT/data/input.md\n",
            "output_path: /content/chatGPT/data/output.md\n"
          ]
        }
      ]
    },
    {
      "cell_type": "code",
      "source": [],
      "metadata": {
        "id": "RWQCqSQ_vMZx"
      },
      "execution_count": null,
      "outputs": []
    },
    {
      "cell_type": "code",
      "source": [
        "# Translated file content\n",
        "with open(output_file_path, \"r\") as f:\n",
        "    contents = f.read()\n",
        "    print(contents)"
      ],
      "metadata": {
        "id": "2AlHzeoDiiib"
      },
      "execution_count": null,
      "outputs": []
    }
  ]
}