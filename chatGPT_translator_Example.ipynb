{
  "nbformat": 4,
  "nbformat_minor": 0,
  "metadata": {
    "colab": {
      "provenance": []
    },
    "kernelspec": {
      "name": "python3",
      "display_name": "Python 3"
    },
    "language_info": {
      "name": "python"
    }
  },
  "cells": [
    {
      "cell_type": "code",
      "execution_count": null,
      "metadata": {
        "id": "Pbucs0Qav7lR"
      },
      "outputs": [],
      "source": [
        "! git clone https://github.com/hwdong-net/chatGPT\n",
        "%cd /content/chatGPT\n",
        "! pip install -r requirements.txt --quiet"
      ]
    },
    {
      "cell_type": "code",
      "source": [
        "input_file_path = '/content/ChatGPT-for-Translation/input.md' #@param {type:\"string\"}\n",
        "openai_key = 'sk-' #@param {type:\"string\"}\n",
        "target_language = 'English' #@param {type:\"string\"}"
      ],
      "metadata": {
        "id": "QmE95ys0wIjF"
      },
      "execution_count": 4,
      "outputs": []
    },
    {
      "cell_type": "code",
      "source": [
        "output_file_path = '/content/ChatGPT-for-Translation/output.md' #@param {type:\"string\"}"
      ],
      "metadata": {
        "id": "_hfPoSERw2Fc"
      },
      "execution_count": 5,
      "outputs": []
    },
    {
      "cell_type": "code",
      "source": [
        "! python chatGPT_translator.py input_file_path output_file_path --openai_key={openai_key} "
      ],
      "metadata": {
        "id": "Ymr82dBCwsvq"
      },
      "execution_count": null,
      "outputs": []
    }
  ]
}
